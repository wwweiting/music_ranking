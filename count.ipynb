{
 "cells": [
  {
   "cell_type": "markdown",
   "metadata": {},
   "source": [
    "# 播放次數、按讚數爬取"
   ]
  },
  {
   "cell_type": "code",
   "execution_count": 7,
   "metadata": {},
   "outputs": [
    {
     "name": "stdout",
     "output_type": "stream",
     "text": [
      "                          music                artist                 type  \\\n",
      "0                  紙飛機 Believer                   林潔心        Hip hop / Rap   \n",
      "1                     捨不得睡 demo              郭子恆Jemmy  Singer / Songwriter   \n",
      "2                         時間的足跡                   程銘奕                  Pop   \n",
      "3              Broken 壞掉 (demo)  寒多路 / Cold Cold Road                 Rock   \n",
      "4                         再見電影院        芒果醬 Mango Jump                  Pop   \n",
      "..                          ...                   ...                  ...   \n",
      "345                         很抱歉          蘇研之 Angie Su  Singer / Songwriter   \n",
      "346            生而為我 我很抱歉 (demo)  寒多路 / Cold Cold Road                 Rock   \n",
      "347                Take a Shine             回聲樂團 ECHO          Alternative   \n",
      "348  BK-【那錯過的妳 I Miss You】audio                    BK        Hip hop / Rap   \n",
      "349      Hello Huckleberry Finn              Goose 我鳥  Singer / Songwriter   \n",
      "\n",
      "    play_count like_count  \n",
      "0       57,653      1,872  \n",
      "1       98,421      2,240  \n",
      "2      146,201      2,313  \n",
      "3      150,032      1,114  \n",
      "4       50,760      1,700  \n",
      "..         ...        ...  \n",
      "345     15,884        318  \n",
      "346    329,490      1,746  \n",
      "347      1,096         51  \n",
      "348     16,478        413  \n",
      "349        994         45  \n",
      "\n",
      "[350 rows x 5 columns]\n"
     ]
    }
   ],
   "source": [
    "import pandas as pd\n",
    "from selenium import webdriver\n",
    "from selenium.webdriver.common.by import By\n",
    "\n",
    "file_path = 'final.xlsx'\n",
    "df = pd.read_excel(file_path)\n",
    "\n",
    "new_data_list = []\n",
    "\n",
    "for index, row in df.iterrows():\n",
    "    url = row['link']\n",
    "    driver = webdriver.Chrome()\n",
    "    driver.get(url)\n",
    "\n",
    "    # 使用id找到元素\n",
    "    play_count_element = driver.find_element(By.ID, \"countup-play\")\n",
    "    like_count_element = driver.find_element(By.ID, \"countup-like\")\n",
    "\n",
    "    # 取得播放次數和喜歡次數\n",
    "    play_count = play_count_element.text\n",
    "    like_count = like_count_element.text\n",
    "\n",
    "    # 關閉瀏覽器視窗\n",
    "    driver.quit()\n",
    "\n",
    "    # 將歌名、藝術家、播放次數、喜歡次數加入新的資料表\n",
    "    temp_data = pd.DataFrame({\n",
    "        'music': [row['music']],\n",
    "        'artist': [row['artist']],\n",
    "        'type': [row['type']],\n",
    "        'play_count': [play_count],\n",
    "        'like_count': [like_count]\n",
    "    })\n",
    "    new_data_list.append(temp_data)\n",
    "\n",
    "# 合併所有新的資料表\n",
    "new_data = pd.concat(new_data_list, ignore_index=True)\n",
    "\n",
    "new_data"
   ]
  },
  {
   "cell_type": "code",
   "execution_count": 16,
   "metadata": {},
   "outputs": [],
   "source": [
    "new_data.to_excel('count.xlsx', index=True)"
   ]
  },
  {
   "cell_type": "markdown",
   "metadata": {},
   "source": [
    "# 加總同個類型的按讚數跟播放次數"
   ]
  },
  {
   "cell_type": "code",
   "execution_count": 2,
   "metadata": {},
   "outputs": [
    {
     "data": {
      "text/html": [
       "<div>\n",
       "<style scoped>\n",
       "    .dataframe tbody tr th:only-of-type {\n",
       "        vertical-align: middle;\n",
       "    }\n",
       "\n",
       "    .dataframe tbody tr th {\n",
       "        vertical-align: top;\n",
       "    }\n",
       "\n",
       "    .dataframe thead th {\n",
       "        text-align: right;\n",
       "    }\n",
       "</style>\n",
       "<table border=\"1\" class=\"dataframe\">\n",
       "  <thead>\n",
       "    <tr style=\"text-align: right;\">\n",
       "      <th></th>\n",
       "      <th>type</th>\n",
       "      <th>play_count</th>\n",
       "      <th>like_count</th>\n",
       "    </tr>\n",
       "  </thead>\n",
       "  <tbody>\n",
       "    <tr>\n",
       "      <th>0</th>\n",
       "      <td>Alternative</td>\n",
       "      <td>498451</td>\n",
       "      <td>7256</td>\n",
       "    </tr>\n",
       "    <tr>\n",
       "      <th>1</th>\n",
       "      <td>Dance</td>\n",
       "      <td>118453</td>\n",
       "      <td>2474</td>\n",
       "    </tr>\n",
       "    <tr>\n",
       "      <th>2</th>\n",
       "      <td>Electronic</td>\n",
       "      <td>11073</td>\n",
       "      <td>292</td>\n",
       "    </tr>\n",
       "    <tr>\n",
       "      <th>3</th>\n",
       "      <td>Folk</td>\n",
       "      <td>5990</td>\n",
       "      <td>122</td>\n",
       "    </tr>\n",
       "    <tr>\n",
       "      <th>4</th>\n",
       "      <td>Hip hop / Rap</td>\n",
       "      <td>10068074</td>\n",
       "      <td>245827</td>\n",
       "    </tr>\n",
       "    <tr>\n",
       "      <th>5</th>\n",
       "      <td>Jazz</td>\n",
       "      <td>51210</td>\n",
       "      <td>2828</td>\n",
       "    </tr>\n",
       "    <tr>\n",
       "      <th>6</th>\n",
       "      <td>Metal</td>\n",
       "      <td>16369</td>\n",
       "      <td>148</td>\n",
       "    </tr>\n",
       "    <tr>\n",
       "      <th>7</th>\n",
       "      <td>Pop</td>\n",
       "      <td>8498857</td>\n",
       "      <td>135442</td>\n",
       "    </tr>\n",
       "    <tr>\n",
       "      <th>8</th>\n",
       "      <td>R&amp;B / Soul</td>\n",
       "      <td>184140</td>\n",
       "      <td>6483</td>\n",
       "    </tr>\n",
       "    <tr>\n",
       "      <th>9</th>\n",
       "      <td>Reggae / Funk</td>\n",
       "      <td>3409</td>\n",
       "      <td>263</td>\n",
       "    </tr>\n",
       "    <tr>\n",
       "      <th>10</th>\n",
       "      <td>Rock</td>\n",
       "      <td>3326728</td>\n",
       "      <td>24565</td>\n",
       "    </tr>\n",
       "    <tr>\n",
       "      <th>11</th>\n",
       "      <td>Singer / Songwriter</td>\n",
       "      <td>969890</td>\n",
       "      <td>22477</td>\n",
       "    </tr>\n",
       "    <tr>\n",
       "      <th>12</th>\n",
       "      <td>Soundtrack / New age</td>\n",
       "      <td>3388</td>\n",
       "      <td>118</td>\n",
       "    </tr>\n",
       "  </tbody>\n",
       "</table>\n",
       "</div>"
      ],
      "text/plain": [
       "                    type  play_count  like_count\n",
       "0            Alternative      498451        7256\n",
       "1                  Dance      118453        2474\n",
       "2             Electronic       11073         292\n",
       "3                   Folk        5990         122\n",
       "4          Hip hop / Rap    10068074      245827\n",
       "5                   Jazz       51210        2828\n",
       "6                  Metal       16369         148\n",
       "7                    Pop     8498857      135442\n",
       "8             R&B / Soul      184140        6483\n",
       "9          Reggae / Funk        3409         263\n",
       "10                  Rock     3326728       24565\n",
       "11   Singer / Songwriter      969890       22477\n",
       "12  Soundtrack / New age        3388         118"
      ]
     },
     "execution_count": 2,
     "metadata": {},
     "output_type": "execute_result"
    }
   ],
   "source": [
    "import pandas as pd\n",
    "\n",
    "file_path = 'count.xlsx'\n",
    "df = pd.read_excel(file_path)\n",
    "\n",
    "# 轉換為整數\n",
    "df['play_count'] = df['play_count'].replace(',', '', regex=True).astype(int)\n",
    "df['like_count'] = df['like_count'].replace(',', '', regex=True).astype(int)\n",
    "\n",
    "# 把相同type的play_count和like_count相加\n",
    "type_totals = df.groupby('type')[['play_count', 'like_count']].sum().reset_index()\n",
    "\n",
    "type_totals"
   ]
  },
  {
   "cell_type": "code",
   "execution_count": 20,
   "metadata": {},
   "outputs": [],
   "source": [
    "type_totals.to_excel('count_type.xlsx', index=True)"
   ]
  },
  {
   "cell_type": "markdown",
   "metadata": {},
   "source": [
    "# 製作圖表"
   ]
  },
  {
   "cell_type": "code",
   "execution_count": 3,
   "metadata": {},
   "outputs": [
    {
     "data": {
      "image/png": "[encoded data removed]",
      "text/plain": [
       "<Figure size 640x480 with 2 Axes>"
      ]
     },
     "metadata": {},
     "output_type": "display_data"
    }
   ],
   "source": [
    "import matplotlib.pyplot as plt\n",
    "import numpy as np\n",
    "\n",
    "file_path = 'count_type.xlsx'\n",
    "type_totals = pd.read_excel(file_path)\n",
    "\n",
    "# 選擇前五種類別的數據\n",
    "selected_types = ['Pop', 'Hip hop / Rap', 'Rock', 'Alternative', 'Singer / Songwriter']\n",
    "selected_type_totals = type_totals[type_totals['type'].isin(selected_types)]\n",
    "\n",
    "\n",
    "fig, ax = plt.subplots()\n",
    "x = np.arange(len(selected_type_totals['type']))\n",
    "\n",
    "# 繪製play_count\n",
    "ax.bar(x - 0.2, selected_type_totals['play_count'], width=0.4, label='play_count', color='blue')\n",
    "\n",
    "# 繪製like_count\n",
    "ax2 = ax.twinx()\n",
    "ax2.bar(x + 0.2, selected_type_totals['like_count'], width=0.4, label='like_count', color='orange', alpha=0.7)\n",
    "\n",
    "# x軸\n",
    "ax.set_xticks(x)\n",
    "ax.set_xticklabels(selected_type_totals['type'])\n",
    "\n",
    "# 標題\n",
    "ax.set_xlabel('Type')\n",
    "ax.set_ylabel('Play Count', color='blue')\n",
    "ax2.set_ylabel('Like Count', color='orange')\n",
    "plt.title('Play_count and Like_count for Selected Types')\n",
    "\n",
    "# 顯示圖例\n",
    "ax.legend(loc='upper left')\n",
    "ax2.legend(loc='upper right')\n",
    "\n",
    "plt.savefig('type.png')"
   ]
  },
  {
   "cell_type": "code",
   "execution_count": null,
   "metadata": {},
   "outputs": [],
   "source": []
  }
 ],
 "metadata": {
  "kernelspec": {
   "display_name": "Python 3",
   "language": "python",
   "name": "python3"
  },
  "language_info": {
   "codemirror_mode": {
    "name": "ipython",
    "version": 3
   },
   "file_extension": ".py",
   "mimetype": "text/x-python",
   "name": "python",
   "nbconvert_exporter": "python",
   "pygments_lexer": "ipython3",
   "version": "3.10.7"
  }
 },
 "nbformat": 4,
 "nbformat_minor": 2
}
